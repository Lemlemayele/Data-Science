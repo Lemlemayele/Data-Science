{
    "cells": [
        {
            "cell_type": "markdown",
            "metadata": {},
            "source": "<div class=\"\" style=\"margin-left: 20%\">\n    <h1> Machine learning</h1>\n</div>\n "
        },
        {
            "cell_type": "markdown",
            "metadata": {},
            "source": "### Human cell sample records\nIn this notebook, I will build and train a model for human cell records and classify cells samples into whether they are benign or malignant using SVM (Support Vector Machines).\n\nSVM works by mapping data to a high-dimensional feature space so that data points can be categorized, even when the data are not otherwise linearly separable. A separator between the categories is found, then the data is transformed in such a way that the separator could be drawn as a hyperplane. Following this, characteristics of new data can be used to predict the group to which a new record should belong."
        },
        {
            "cell_type": "markdown",
            "metadata": {},
            "source": "<h2>Table of contents</h2>\n\n<div class=\"alert alert-block alert-info\" style=\"margin-top: 20px\">\n    <ol>\n        <li><a href=\"#Data source\">Data source</a></li>\n        <li><a href=\"#Exploratory\">Exploratory Data Analysis</a></li>\n        <li><a href=\"#modeling\">Modeling</a></li>\n        <li><a href=\"#evaluation\">Model Evaluation</a></li>\n</ol>\n</div>\n<br>\n<hr>"
        },
        {
            "cell_type": "markdown",
            "metadata": {},
            "source": "### Importing the necessary libraries for this notebook."
        },
        {
            "cell_type": "code",
            "execution_count": 333,
            "metadata": {},
            "outputs": [],
            "source": "import pandas as pd\n# import pylab as pl\nimport numpy as np\n# import scipy.optimize as opt\n\n# from sklearn import preprocessing\nfrom sklearn.svm import SVC\nfrom sklearn.model_selection import train_test_split\nfrom sklearn.metrics import classification_report, confusion_matrix\n\nimport seaborn as sns\n%matplotlib inline \nimport matplotlib.pyplot as plt"
        },
        {
            "cell_type": "markdown",
            "metadata": {
                "button": false,
                "new_sheet": false,
                "run_control": {
                    "read_only": false
                }
            },
            "source": "<div id=\"Data source\"><h2>Cancer Data Source</h2></div>\n\nThe samples is based on a dataset that is publicly available from the UCI Machine Learning Repository [Asuncion and Newman, 2007](http://mlearn.ics.uci.edu/MLRepository.html). The dataset consists of several hundred human cell sample records, each of which contains the values of a set of cell characteristics. \n\nThe original data analysis has shown significantly characteristics difference between benign and malignant samples. Using the SVM (Support Vector Machine)  classifier, we will train our model to understand patterns in the data that show, whether the sample is benign or malignant cells.\nOnce our model is trained, it will be able to predict new or unknown cell samples with a high level of accuracy.\n\n|Field name|Description|\n|--- |--- |\n|ID|Clump thickness|\n|Clump|Clump thickness|\n|UnifSize|Uniformity of cell size|\n|UnifShape|Uniformity of cell shape|\n|MargAdh|Marginal adhesion|\n|SingEpiSize|Single epithelial cell size|\n|BareNuc|Bare nuclei|\n|BlandChrom|Bland chromatin|\n|NormNucl|Normal nucleoli|\n|Mit|Mitoses|\n|Class|Benign or malignant|\n\n<br>\n<br>\n"
        },
        {
            "cell_type": "markdown",
            "metadata": {
                "button": false,
                "new_sheet": false,
                "run_control": {
                    "read_only": false
                }
            },
            "source": "### Load Data From CSV File with ibm_boto3 and checking the head  "
        },
        {
            "cell_type": "code",
            "execution_count": 334,
            "metadata": {
                "button": false,
                "new_sheet": false,
                "run_control": {
                    "read_only": false
                }
            },
            "outputs": [
                {
                    "data": {
                        "text/html": "<div>\n<style scoped>\n    .dataframe tbody tr th:only-of-type {\n        vertical-align: middle;\n    }\n\n    .dataframe tbody tr th {\n        vertical-align: top;\n    }\n\n    .dataframe thead th {\n        text-align: right;\n    }\n</style>\n<table border=\"1\" class=\"dataframe\">\n  <thead>\n    <tr style=\"text-align: right;\">\n      <th></th>\n      <th>ID</th>\n      <th>Clump</th>\n      <th>UnifSize</th>\n      <th>UnifShape</th>\n      <th>MargAdh</th>\n      <th>SingEpiSize</th>\n      <th>BareNuc</th>\n      <th>BlandChrom</th>\n      <th>NormNucl</th>\n      <th>Mit</th>\n      <th>Class</th>\n    </tr>\n  </thead>\n  <tbody>\n    <tr>\n      <th>0</th>\n      <td>1000025</td>\n      <td>5</td>\n      <td>1</td>\n      <td>1</td>\n      <td>1</td>\n      <td>2</td>\n      <td>1</td>\n      <td>3</td>\n      <td>1</td>\n      <td>1</td>\n      <td>2</td>\n    </tr>\n    <tr>\n      <th>1</th>\n      <td>1002945</td>\n      <td>5</td>\n      <td>4</td>\n      <td>4</td>\n      <td>5</td>\n      <td>7</td>\n      <td>10</td>\n      <td>3</td>\n      <td>2</td>\n      <td>1</td>\n      <td>2</td>\n    </tr>\n    <tr>\n      <th>2</th>\n      <td>1015425</td>\n      <td>3</td>\n      <td>1</td>\n      <td>1</td>\n      <td>1</td>\n      <td>2</td>\n      <td>2</td>\n      <td>3</td>\n      <td>1</td>\n      <td>1</td>\n      <td>2</td>\n    </tr>\n    <tr>\n      <th>3</th>\n      <td>1016277</td>\n      <td>6</td>\n      <td>8</td>\n      <td>8</td>\n      <td>1</td>\n      <td>3</td>\n      <td>4</td>\n      <td>3</td>\n      <td>7</td>\n      <td>1</td>\n      <td>2</td>\n    </tr>\n    <tr>\n      <th>4</th>\n      <td>1017023</td>\n      <td>4</td>\n      <td>1</td>\n      <td>1</td>\n      <td>3</td>\n      <td>2</td>\n      <td>1</td>\n      <td>3</td>\n      <td>1</td>\n      <td>1</td>\n      <td>2</td>\n    </tr>\n  </tbody>\n</table>\n</div>",
                        "text/plain": "        ID  Clump  UnifSize  UnifShape  MargAdh  SingEpiSize BareNuc  \\\n0  1000025      5         1          1        1            2       1   \n1  1002945      5         4          4        5            7      10   \n2  1015425      3         1          1        1            2       2   \n3  1016277      6         8          8        1            3       4   \n4  1017023      4         1          1        3            2       1   \n\n   BlandChrom  NormNucl  Mit  Class  \n0           3         1    1      2  \n1           3         2    1      2  \n2           3         1    1      2  \n3           3         7    1      2  \n4           3         1    1      2  "
                    },
                    "execution_count": 334,
                    "metadata": {},
                    "output_type": "execute_result"
                }
            ],
            "source": "# The code was removed by Watson Studio for sharing."
        },
        {
            "cell_type": "markdown",
            "metadata": {},
            "source": "The ID field contains the patient identifiers.   \nCharacteristics of the cell samples from each patient are contained in fields Clump to Mit.   \nThe values are graded from 1 to 10, with 1 being the closest to benign.\nThe Class field contains the diagnosis, as confirmed by separate medical procedures, as to whether the samples are benign (value = 2) or malignant (value = 4).  "
        },
        {
            "cell_type": "markdown",
            "metadata": {},
            "source": " <div id=\"Exploratory\"><h2>Exploratory Data Analysis (EDA)</h2></div>"
        },
        {
            "cell_type": "code",
            "execution_count": 335,
            "metadata": {},
            "outputs": [
                {
                    "data": {
                        "text/html": "<div>\n<style scoped>\n    .dataframe tbody tr th:only-of-type {\n        vertical-align: middle;\n    }\n\n    .dataframe tbody tr th {\n        vertical-align: top;\n    }\n\n    .dataframe thead th {\n        text-align: right;\n    }\n</style>\n<table border=\"1\" class=\"dataframe\">\n  <thead>\n    <tr style=\"text-align: right;\">\n      <th></th>\n      <th>ID</th>\n      <th>Clump</th>\n      <th>UnifSize</th>\n      <th>UnifShape</th>\n      <th>MargAdh</th>\n      <th>SingEpiSize</th>\n      <th>BlandChrom</th>\n      <th>NormNucl</th>\n      <th>Mit</th>\n      <th>Class</th>\n    </tr>\n  </thead>\n  <tbody>\n    <tr>\n      <th>count</th>\n      <td>6.990000e+02</td>\n      <td>699.000000</td>\n      <td>699.000000</td>\n      <td>699.000000</td>\n      <td>699.000000</td>\n      <td>699.000000</td>\n      <td>699.000000</td>\n      <td>699.000000</td>\n      <td>699.000000</td>\n      <td>699.000000</td>\n    </tr>\n    <tr>\n      <th>mean</th>\n      <td>1.071704e+06</td>\n      <td>4.417740</td>\n      <td>3.134478</td>\n      <td>3.207439</td>\n      <td>2.806867</td>\n      <td>3.216023</td>\n      <td>3.437768</td>\n      <td>2.866953</td>\n      <td>1.589413</td>\n      <td>2.689557</td>\n    </tr>\n    <tr>\n      <th>std</th>\n      <td>6.170957e+05</td>\n      <td>2.815741</td>\n      <td>3.051459</td>\n      <td>2.971913</td>\n      <td>2.855379</td>\n      <td>2.214300</td>\n      <td>2.438364</td>\n      <td>3.053634</td>\n      <td>1.715078</td>\n      <td>0.951273</td>\n    </tr>\n    <tr>\n      <th>min</th>\n      <td>6.163400e+04</td>\n      <td>1.000000</td>\n      <td>1.000000</td>\n      <td>1.000000</td>\n      <td>1.000000</td>\n      <td>1.000000</td>\n      <td>1.000000</td>\n      <td>1.000000</td>\n      <td>1.000000</td>\n      <td>2.000000</td>\n    </tr>\n    <tr>\n      <th>25%</th>\n      <td>8.706885e+05</td>\n      <td>2.000000</td>\n      <td>1.000000</td>\n      <td>1.000000</td>\n      <td>1.000000</td>\n      <td>2.000000</td>\n      <td>2.000000</td>\n      <td>1.000000</td>\n      <td>1.000000</td>\n      <td>2.000000</td>\n    </tr>\n    <tr>\n      <th>50%</th>\n      <td>1.171710e+06</td>\n      <td>4.000000</td>\n      <td>1.000000</td>\n      <td>1.000000</td>\n      <td>1.000000</td>\n      <td>2.000000</td>\n      <td>3.000000</td>\n      <td>1.000000</td>\n      <td>1.000000</td>\n      <td>2.000000</td>\n    </tr>\n    <tr>\n      <th>75%</th>\n      <td>1.238298e+06</td>\n      <td>6.000000</td>\n      <td>5.000000</td>\n      <td>5.000000</td>\n      <td>4.000000</td>\n      <td>4.000000</td>\n      <td>5.000000</td>\n      <td>4.000000</td>\n      <td>1.000000</td>\n      <td>4.000000</td>\n    </tr>\n    <tr>\n      <th>max</th>\n      <td>1.345435e+07</td>\n      <td>10.000000</td>\n      <td>10.000000</td>\n      <td>10.000000</td>\n      <td>10.000000</td>\n      <td>10.000000</td>\n      <td>10.000000</td>\n      <td>10.000000</td>\n      <td>10.000000</td>\n      <td>4.000000</td>\n    </tr>\n  </tbody>\n</table>\n</div>",
                        "text/plain": "                 ID       Clump    UnifSize   UnifShape     MargAdh  \\\ncount  6.990000e+02  699.000000  699.000000  699.000000  699.000000   \nmean   1.071704e+06    4.417740    3.134478    3.207439    2.806867   \nstd    6.170957e+05    2.815741    3.051459    2.971913    2.855379   \nmin    6.163400e+04    1.000000    1.000000    1.000000    1.000000   \n25%    8.706885e+05    2.000000    1.000000    1.000000    1.000000   \n50%    1.171710e+06    4.000000    1.000000    1.000000    1.000000   \n75%    1.238298e+06    6.000000    5.000000    5.000000    4.000000   \nmax    1.345435e+07   10.000000   10.000000   10.000000   10.000000   \n\n       SingEpiSize  BlandChrom    NormNucl         Mit       Class  \ncount   699.000000  699.000000  699.000000  699.000000  699.000000  \nmean      3.216023    3.437768    2.866953    1.589413    2.689557  \nstd       2.214300    2.438364    3.053634    1.715078    0.951273  \nmin       1.000000    1.000000    1.000000    1.000000    2.000000  \n25%       2.000000    2.000000    1.000000    1.000000    2.000000  \n50%       2.000000    3.000000    1.000000    1.000000    2.000000  \n75%       4.000000    5.000000    4.000000    1.000000    4.000000  \nmax      10.000000   10.000000   10.000000   10.000000    4.000000  "
                    },
                    "execution_count": 335,
                    "metadata": {},
                    "output_type": "execute_result"
                }
            ],
            "source": "df.describe()"
        },
        {
            "cell_type": "markdown",
            "metadata": {},
            "source": "#### Clump thickness and Uniformity\nLets look at the distribution of the classes based on Clump thickness and Uniformity of cell size:"
        },
        {
            "cell_type": "code",
            "execution_count": 336,
            "metadata": {},
            "outputs": [
                {
                    "data": {
                        "image/png": "[encoded data removed]",
                        "text/plain": "<Figure size 432x288 with 1 Axes>"
                    },
                    "metadata": {
                        "needs_background": "light"
                    },
                    "output_type": "display_data"
                }
            ],
            "source": "ax = df[df['Class'] == 4][0:50].plot(kind='scatter', x='Clump', y='UnifSize', color='pink', label='malignant');\ndf[df['Class'] == 2][0:50].plot(kind='scatter', x='Clump', y='UnifSize', color='DarkBlue', label='benign', ax=ax);\nplt.show()"
        },
        {
            "cell_type": "code",
            "execution_count": 337,
            "metadata": {},
            "outputs": [
                {
                    "data": {
                        "text/plain": "<matplotlib.axes._subplots.AxesSubplot at 0x7feaec068da0>"
                    },
                    "execution_count": 337,
                    "metadata": {},
                    "output_type": "execute_result"
                },
                {
                    "data": {
                        "image/png": "[encoded data removed]",
                        "text/plain": "<Figure size 432x288 with 1 Axes>"
                    },
                    "metadata": {
                        "needs_background": "light"
                    },
                    "output_type": "display_data"
                }
            ],
            "source": "sns.countplot(x='Class',data=df)"
        },
        {
            "cell_type": "code",
            "execution_count": 338,
            "metadata": {},
            "outputs": [
                {
                    "data": {
                        "text/plain": "<seaborn.axisgrid.FacetGrid at 0x7feaec1447f0>"
                    },
                    "execution_count": 338,
                    "metadata": {},
                    "output_type": "execute_result"
                },
                {
                    "data": {
                        "image/png": "[encoded data removed]",
                        "text/plain": "<Figure size 402.375x360 with 1 Axes>"
                    },
                    "metadata": {
                        "needs_background": "light"
                    },
                    "output_type": "display_data"
                }
            ],
            "source": "sns.lmplot(y='Mit',x='Clump',data=df,hue='Class',\n          palette='Set1')"
        },
        {
            "cell_type": "markdown",
            "metadata": {},
            "source": "** This is not telling us much"
        },
        {
            "cell_type": "markdown",
            "metadata": {},
            "source": "## Data pre-processing and selection"
        },
        {
            "cell_type": "markdown",
            "metadata": {},
            "source": "For most part, our date is pretty clean, lets check our columns data types and make sure every column has numerical value."
        },
        {
            "cell_type": "code",
            "execution_count": 339,
            "metadata": {},
            "outputs": [
                {
                    "data": {
                        "text/plain": "ID              int64\nClump           int64\nUnifSize        int64\nUnifShape       int64\nMargAdh         int64\nSingEpiSize     int64\nBareNuc        object\nBlandChrom      int64\nNormNucl        int64\nMit             int64\nClass           int64\ndtype: object"
                    },
                    "execution_count": 339,
                    "metadata": {},
                    "output_type": "execute_result"
                }
            ],
            "source": "df.dtypes"
        },
        {
            "cell_type": "code",
            "execution_count": 340,
            "metadata": {},
            "outputs": [
                {
                    "data": {
                        "text/plain": "dtype('O')"
                    },
                    "execution_count": 340,
                    "metadata": {},
                    "output_type": "execute_result"
                }
            ],
            "source": "df.dtypes['BareNuc']"
        },
        {
            "cell_type": "markdown",
            "metadata": {},
            "source": "\nOur __BareNuc__ column appears to have a none numerical value. Let's convernt this to int for our model."
        },
        {
            "cell_type": "code",
            "execution_count": 341,
            "metadata": {},
            "outputs": [
                {
                    "data": {
                        "text/plain": "ID             int64\nClump          int64\nUnifSize       int64\nUnifShape      int64\nMargAdh        int64\nSingEpiSize    int64\nBareNuc        int64\nBlandChrom     int64\nNormNucl       int64\nMit            int64\nClass          int64\ndtype: object"
                    },
                    "execution_count": 341,
                    "metadata": {},
                    "output_type": "execute_result"
                }
            ],
            "source": "df = df[pd.to_numeric(df['BareNuc'], errors='coerce').notnull()]\ndf['BareNuc'] = df['BareNuc'].astype('int')\ndf.dtypes\n"
        },
        {
            "cell_type": "markdown",
            "metadata": {},
            "source": "It looks like every column has numerical value now"
        },
        {
            "cell_type": "markdown",
            "metadata": {},
            "source": "#### Let's set our features"
        },
        {
            "cell_type": "code",
            "execution_count": 342,
            "metadata": {},
            "outputs": [
                {
                    "data": {
                        "text/plain": "array([[ 5,  1,  1,  1,  2,  1,  3,  1,  1],\n       [ 5,  4,  4,  5,  7, 10,  3,  2,  1],\n       [ 3,  1,  1,  1,  2,  2,  3,  1,  1],\n       [ 6,  8,  8,  1,  3,  4,  3,  7,  1],\n       [ 4,  1,  1,  3,  2,  1,  3,  1,  1]])"
                    },
                    "execution_count": 342,
                    "metadata": {},
                    "output_type": "execute_result"
                }
            ],
            "source": "#feature_df = df[['Clump', 'UnifSize', 'UnifShape', 'MargAdh', 'SingEpiSize', 'BareNuc', 'BlandChrom', 'NormNucl', 'Mit']]\nfeature_df = df.drop(['ID','Class'], axis=1)\nX = np.asarray(feature_df)\nX[0:5]"
        },
        {
            "cell_type": "markdown",
            "metadata": {},
            "source": "We want the model to predict the value of Class (that is, benign (=2) or malignant (=4)).   \nAs this field can only have one of two possible values, we need to change its measurement level to reflect this."
        },
        {
            "cell_type": "code",
            "execution_count": 343,
            "metadata": {},
            "outputs": [
                {
                    "data": {
                        "text/plain": "array([2, 2, 2, 2, 2])"
                    },
                    "execution_count": 343,
                    "metadata": {},
                    "output_type": "execute_result"
                }
            ],
            "source": "df['Class'] = df['Class'].astype('int')\ny = np.asarray(df['Class'])\ny [0:5]"
        },
        {
            "cell_type": "markdown",
            "metadata": {},
            "source": "## Train/Test dataset"
        },
        {
            "cell_type": "markdown",
            "metadata": {},
            "source": "Now we can go ahead and split our dataset into train and test set:"
        },
        {
            "cell_type": "code",
            "execution_count": 344,
            "metadata": {},
            "outputs": [
                {
                    "name": "stdout",
                    "output_type": "stream",
                    "text": "Train set: (546, 9) (546,)\nTest set: (137, 9) (137,)\n"
                }
            ],
            "source": "X_train, X_test, y_train, y_test = train_test_split( X, y, test_size=0.2, random_state=101)\nprint ('Train set:', X_train.shape,  y_train.shape)\nprint ('Test set:', X_test.shape,  y_test.shape)"
        },
        {
            "cell_type": "markdown",
            "metadata": {},
            "source": "<div id=\"modeling\"><h2>Modeling (SVM with Scikit-learn)</h2></div>"
        },
        {
            "cell_type": "markdown",
            "metadata": {},
            "source": "The SVM algorithm is set of supervised learning methods used for classification, regression and outliers detection. It provides an option of  kernel functions for performing its processing. It mapping data into a higher dimensional space is called kernelling. The mathematical function used for the transformation is called the\u00a0kernel\u00a0function, and the following are some of the different kinds:\n\n    1.Linear\n    2.Polynomial\n    3.Radial basis function (RBF)\n    4.Sigmoid\n\nFor our model, we will use Linear and RBF (Radial Basis Function) kernel function and see which one performs better.\n\n### Using RBF (Radial Basis Function)"
        },
        {
            "cell_type": "code",
            "execution_count": 345,
            "metadata": {},
            "outputs": [
                {
                    "name": "stderr",
                    "output_type": "stream",
                    "text": "/opt/conda/envs/Python36/lib/python3.6/site-packages/sklearn/svm/base.py:196: FutureWarning: The default value of gamma will change from 'auto' to 'scale' in version 0.22 to account better for unscaled features. Set gamma explicitly to 'auto' or 'scale' to avoid this warning.\n  \"avoid this warning.\", FutureWarning)\n"
                },
                {
                    "data": {
                        "text/plain": "SVC(C=1.0, cache_size=200, class_weight=None, coef0=0.0,\n  decision_function_shape='ovr', degree=3, gamma='auto_deprecated',\n  kernel='rbf', max_iter=-1, probability=False, random_state=None,\n  shrinking=True, tol=0.001, verbose=False)"
                    },
                    "execution_count": 345,
                    "metadata": {},
                    "output_type": "execute_result"
                }
            ],
            "source": "model = svm.SVC(kernel='rbf')\nmodel.fit(X_train, y_train) "
        },
        {
            "cell_type": "code",
            "execution_count": 346,
            "metadata": {},
            "outputs": [
                {
                    "name": "stdout",
                    "output_type": "stream",
                    "text": "              precision    recall  f1-score   support\n\n           2       1.00      0.94      0.97        95\n           4       0.88      1.00      0.93        42\n\n   micro avg       0.96      0.96      0.96       137\n   macro avg       0.94      0.97      0.95       137\nweighted avg       0.96      0.96      0.96       137\n\n"
                }
            ],
            "source": "prediction = model.predict(X_test)\nprediction [0:5]\nprint(classification_report(y_test,prediction))"
        },
        {
            "cell_type": "markdown",
            "metadata": {},
            "source": "### Let's try Linear kernel"
        },
        {
            "cell_type": "code",
            "execution_count": 347,
            "metadata": {},
            "outputs": [
                {
                    "data": {
                        "text/plain": "SVC(C=1.0, cache_size=200, class_weight=None, coef0=0.0,\n  decision_function_shape='ovr', degree=3, gamma='auto_deprecated',\n  kernel='linear', max_iter=-1, probability=False, random_state=None,\n  shrinking=True, tol=0.001, verbose=False)"
                    },
                    "execution_count": 347,
                    "metadata": {},
                    "output_type": "execute_result"
                }
            ],
            "source": "model1 = svm.SVC(kernel='linear')\nmodel1.fit(X_train, y_train) "
        },
        {
            "cell_type": "markdown",
            "metadata": {},
            "source": "<div id=\"evaluation\"><h2>Model Evaluation</h2></div>\n\n"
        },
        {
            "cell_type": "code",
            "execution_count": 348,
            "metadata": {},
            "outputs": [
                {
                    "name": "stdout",
                    "output_type": "stream",
                    "text": "              precision    recall  f1-score   support\n\n           2       0.96      1.00      0.98        95\n           4       1.00      0.90      0.95        42\n\n   micro avg       0.97      0.97      0.97       137\n   macro avg       0.98      0.95      0.96       137\nweighted avg       0.97      0.97      0.97       137\n\n"
                }
            ],
            "source": "pred = model1.predict(X_test)\npred [0:5]\nprint(classification_report(y_test,pred))"
        },
        {
            "cell_type": "markdown",
            "metadata": {},
            "source": "Now that our model has being fitted, It can be used to predict new or some unknown values:\n\n#### Plot confusion matrix"
        },
        {
            "cell_type": "code",
            "execution_count": 349,
            "metadata": {},
            "outputs": [
                {
                    "name": "stdout",
                    "output_type": "stream",
                    "text": "Confusion matrix, without normalization\n[[89  6]\n [ 0 42]]\n"
                },
                {
                    "data": {
                        "image/png": "[encoded data removed]",
                        "text/plain": "<Figure size 432x288 with 2 Axes>"
                    },
                    "metadata": {
                        "needs_background": "light"
                    },
                    "output_type": "display_data"
                }
            ],
            "source": "cnf_matrix = confusion_matrix(y_test, prediction, labels=[2,4])\nnp.set_printoptions(precision=2)\nplt.figure()\nplot_confusion_matrix(cnf_matrix, classes=['Benign(2)','Malignant(4)'],normalize= False,  title='Confusion matrix')"
        },
        {
            "cell_type": "code",
            "execution_count": 350,
            "metadata": {},
            "outputs": [],
            "source": "from sklearn.metrics import f1_score\nfrom sklearn.metrics import jaccard_similarity_score"
        },
        {
            "cell_type": "markdown",
            "metadata": {},
            "source": "### Lets try jaccard index for accuracy:"
        },
        {
            "cell_type": "code",
            "execution_count": 351,
            "metadata": {},
            "outputs": [
                {
                    "name": "stdout",
                    "output_type": "stream",
                    "text": "\n\nRBF kernal (Radial Basis Function)\nAvg F1-score: 0.956950\nJaccard score: 0.956204\n\n\nLinear kernal\nAvg F1-score: 0.9704\nJaccard score: 0.9708\n\n\n"
                }
            ],
            "source": "print('\\n')\nprint('RBF kernal (Radial Basis Function)')\nprint('Avg F1-score: %4f' % f1_score(y_test, prediction, average='weighted'))\nprint('Jaccard score: %4f' % jaccard_similarity_score(y_test, prediction))\n\nprint('\\n')\nprint('Linear kernal')\nprint(\"Avg F1-score: %.4f\" % f1_score(y_test, pred, average='weighted'))\nprint(\"Jaccard score: %.4f\" % jaccard_similarity_score(y_test, pred))\nprint('\\n')"
        },
        {
            "cell_type": "markdown",
            "metadata": {},
            "source": "### GridSearch\nOur model is already performing well with high accuracy prediction. Let's see if we can tune the parameters to get better accuracy. For this, we will use GridSearchC to optimize the model."
        },
        {
            "cell_type": "code",
            "execution_count": 352,
            "metadata": {},
            "outputs": [],
            "source": "from sklearn.model_selection import GridSearchCV"
        },
        {
            "cell_type": "markdown",
            "metadata": {},
            "source": "Creating a dictionary called param_grid and fill out some parameters for C and gamma."
        },
        {
            "cell_type": "code",
            "execution_count": 353,
            "metadata": {},
            "outputs": [],
            "source": "param_grid = {'C': [0.1,1, 10, 100], 'gamma': [1,0.1,0.01,0.001]} "
        },
        {
            "cell_type": "markdown",
            "metadata": {},
            "source": "Creating a GridSearchCV object and fit to the training data."
        },
        {
            "cell_type": "code",
            "execution_count": 354,
            "metadata": {},
            "outputs": [
                {
                    "name": "stdout",
                    "output_type": "stream",
                    "text": "Fitting 3 folds for each of 16 candidates, totalling 48 fits\n[CV] C=0.1, gamma=1 ..................................................\n[CV] ................................... C=0.1, gamma=1, total=   0.0s\n[CV] C=0.1, gamma=1 ..................................................\n[CV] ................................... C=0.1, gamma=1, total=   0.0s\n[CV] C=0.1, gamma=1 ..................................................\n[CV] ................................... C=0.1, gamma=1, total=   0.0s\n[CV] C=0.1, gamma=0.1 ................................................\n[CV] ................................. C=0.1, gamma=0.1, total=   0.0s\n[CV] C=0.1, gamma=0.1 ................................................\n[CV] ................................. C=0.1, gamma=0.1, total=   0.0s\n[CV] C=0.1, gamma=0.1 ................................................\n[CV] ................................. C=0.1, gamma=0.1, total=   0.0s\n[CV] C=0.1, gamma=0.01 ...............................................\n[CV] ................................ C=0.1, gamma=0.01, total=   0.0s\n[CV] C=0.1, gamma=0.01 ...............................................\n[CV] ................................ C=0.1, gamma=0.01, total=   0.0s\n[CV] C=0.1, gamma=0.01 ...............................................\n[CV] ................................ C=0.1, gamma=0.01, total=   0.0s\n[CV] C=0.1, gamma=0.001 ..............................................\n[CV] ............................... C=0.1, gamma=0.001, total=   0.0s\n[CV] C=0.1, gamma=0.001 ..............................................\n[CV] ............................... C=0.1, gamma=0.001, total=   0.0s\n[CV] C=0.1, gamma=0.001 ..............................................\n[CV] ............................... C=0.1, gamma=0.001, total=   0.0s\n[CV] C=1, gamma=1 ....................................................\n[CV] ..................................... C=1, gamma=1, total=   0.0s\n[CV] C=1, gamma=1 ....................................................\n[CV] ..................................... C=1, gamma=1, total=   0.0s\n[CV] C=1, gamma=1 ....................................................\n"
                },
                {
                    "name": "stderr",
                    "output_type": "stream",
                    "text": "/opt/conda/envs/Python36/lib/python3.6/site-packages/sklearn/model_selection/_split.py:2053: FutureWarning: You should specify a value for 'cv' instead of relying on the default value. The default value will change from 3 to 5 in version 0.22.\n  warnings.warn(CV_WARNING, FutureWarning)\n[Parallel(n_jobs=1)]: Using backend SequentialBackend with 1 concurrent workers.\n[Parallel(n_jobs=1)]: Done   1 out of   1 | elapsed:    0.0s remaining:    0.0s\n"
                },
                {
                    "name": "stdout",
                    "output_type": "stream",
                    "text": "[CV] ..................................... C=1, gamma=1, total=   0.0s\n[CV] C=1, gamma=0.1 ..................................................\n[CV] ................................... C=1, gamma=0.1, total=   0.0s\n[CV] C=1, gamma=0.1 ..................................................\n[CV] ................................... C=1, gamma=0.1, total=   0.0s\n[CV] C=1, gamma=0.1 ..................................................\n[CV] ................................... C=1, gamma=0.1, total=   0.0s\n[CV] C=1, gamma=0.01 .................................................\n[CV] .................................. C=1, gamma=0.01, total=   0.0s\n[CV] C=1, gamma=0.01 .................................................\n[CV] .................................. C=1, gamma=0.01, total=   0.0s\n[CV] C=1, gamma=0.01 .................................................\n[CV] .................................. C=1, gamma=0.01, total=   0.0s\n[CV] C=1, gamma=0.001 ................................................\n[CV] ................................. C=1, gamma=0.001, total=   0.0s\n[CV] C=1, gamma=0.001 ................................................\n[CV] ................................. C=1, gamma=0.001, total=   0.0s\n[CV] C=1, gamma=0.001 ................................................\n[CV] ................................. C=1, gamma=0.001, total=   0.0s\n[CV] C=10, gamma=1 ...................................................\n[CV] .................................... C=10, gamma=1, total=   0.0s\n[CV] C=10, gamma=1 ...................................................\n[CV] .................................... C=10, gamma=1, total=   0.0s\n[CV] C=10, gamma=1 ...................................................\n[CV] .................................... C=10, gamma=1, total=   0.0s\n[CV] C=10, gamma=0.1 .................................................\n[CV] .................................. C=10, gamma=0.1, total=   0.0s\n[CV] C=10, gamma=0.1 .................................................\n[CV] .................................. C=10, gamma=0.1, total=   0.0s\n[CV] C=10, gamma=0.1 .................................................\n[CV] .................................. C=10, gamma=0.1, total=   0.0s\n[CV] C=10, gamma=0.01 ................................................\n[CV] ................................. C=10, gamma=0.01, total=   0.0s\n[CV] C=10, gamma=0.01 ................................................\n[CV] ................................. C=10, gamma=0.01, total=   0.0s\n[CV] C=10, gamma=0.01 ................................................\n[CV] ................................. C=10, gamma=0.01, total=   0.0s\n[CV] C=10, gamma=0.001 ...............................................\n[CV] ................................ C=10, gamma=0.001, total=   0.0s\n[CV] C=10, gamma=0.001 ...............................................\n[CV] ................................ C=10, gamma=0.001, total=   0.0s\n[CV] C=10, gamma=0.001 ...............................................\n[CV] ................................ C=10, gamma=0.001, total=   0.0s\n[CV] C=100, gamma=1 ..................................................\n[CV] ................................... C=100, gamma=1, total=   0.0s\n[CV] C=100, gamma=1 ..................................................\n[CV] ................................... C=100, gamma=1, total=   0.0s\n[CV] C=100, gamma=1 ..................................................\n[CV] ................................... C=100, gamma=1, total=   0.0s\n[CV] C=100, gamma=0.1 ................................................\n[CV] ................................. C=100, gamma=0.1, total=   0.0s\n[CV] C=100, gamma=0.1 ................................................\n[CV] ................................. C=100, gamma=0.1, total=   0.0s\n[CV] C=100, gamma=0.1 ................................................\n[CV] ................................. C=100, gamma=0.1, total=   0.0s\n[CV] C=100, gamma=0.01 ...............................................\n[CV] ................................ C=100, gamma=0.01, total=   0.0s\n[CV] C=100, gamma=0.01 ...............................................\n[CV] ................................ C=100, gamma=0.01, total=   0.0s\n[CV] C=100, gamma=0.01 ...............................................\n[CV] ................................ C=100, gamma=0.01, total=   0.0s\n[CV] C=100, gamma=0.001 ..............................................\n[CV] ............................... C=100, gamma=0.001, total=   0.0s\n[CV] C=100, gamma=0.001 ..............................................\n[CV] ............................... C=100, gamma=0.001, total=   0.0s\n[CV] C=100, gamma=0.001 ..............................................\n[CV] ............................... C=100, gamma=0.001, total=   0.0s\n"
                },
                {
                    "name": "stderr",
                    "output_type": "stream",
                    "text": "[Parallel(n_jobs=1)]: Done  48 out of  48 | elapsed:    0.5s finished\n"
                },
                {
                    "data": {
                        "text/plain": "GridSearchCV(cv='warn', error_score='raise-deprecating',\n       estimator=SVC(C=1.0, cache_size=200, class_weight=None, coef0=0.0,\n  decision_function_shape='ovr', degree=3, gamma='auto_deprecated',\n  kernel='rbf', max_iter=-1, probability=False, random_state=None,\n  shrinking=True, tol=0.001, verbose=False),\n       fit_params=None, iid='warn', n_jobs=None,\n       param_grid={'C': [0.1, 1, 10, 100], 'gamma': [1, 0.1, 0.01, 0.001]},\n       pre_dispatch='2*n_jobs', refit=True, return_train_score='warn',\n       scoring=None, verbose=2)"
                    },
                    "execution_count": 354,
                    "metadata": {},
                    "output_type": "execute_result"
                }
            ],
            "source": "grid = GridSearchCV(SVC(),param_grid,refit=True,verbose=2)\ngrid.fit(X_train,y_train)"
        },
        {
            "cell_type": "markdown",
            "metadata": {},
            "source": "### Model Evaluation for GridSearchCV"
        },
        {
            "cell_type": "code",
            "execution_count": 355,
            "metadata": {},
            "outputs": [],
            "source": "grid_predictions = grid.predict(X_test)"
        },
        {
            "cell_type": "code",
            "execution_count": 356,
            "metadata": {},
            "outputs": [
                {
                    "name": "stdout",
                    "output_type": "stream",
                    "text": "[[94  1]\n [ 2 40]]\n              precision    recall  f1-score   support\n\n           2       0.98      0.99      0.98        95\n           4       0.98      0.95      0.96        42\n\n   micro avg       0.98      0.98      0.98       137\n   macro avg       0.98      0.97      0.97       137\nweighted avg       0.98      0.98      0.98       137\n\n"
                }
            ],
            "source": "print(confusion_matrix(y_test,grid_predictions))\nprint(classification_report(y_test,grid_predictions))"
        },
        {
            "cell_type": "code",
            "execution_count": 357,
            "metadata": {},
            "outputs": [
                {
                    "name": "stdout",
                    "output_type": "stream",
                    "text": "Confusion matrix, without normalization\n[[94  1]\n [ 2 40]]\n"
                },
                {
                    "data": {
                        "image/png": "[encoded data removed]",
                        "text/plain": "<Figure size 432x288 with 2 Axes>"
                    },
                    "metadata": {
                        "needs_background": "light"
                    },
                    "output_type": "display_data"
                }
            ],
            "source": "grid_matrix = confusion_matrix(y_test, grid_predictions, labels=[2,4])\nnp.set_printoptions(precision=2)\nplt.figure()\nplot_confusion_matrix(grid_matrix, classes=['Benign(2)','Malignant(4)'],normalize= False,  title='Confusion matrix')"
        },
        {
            "cell_type": "markdown",
            "metadata": {},
            "source": "#### Observation"
        },
        {
            "cell_type": "markdown",
            "metadata": {},
            "source": "It looks like we were able to improve our model from 97% to 98% accuracy across precision, recall, and f1-score.\n\nIn this notebook, we used SVM Kernel function Linear,RBF which is default SVM (Radial Basis function), and GridSearchCV, with respective prediction.\n\n|Model|Accuracy|\n|---|---|\n|RBF|96%|\n|Linear|97%|\n|GridSearchCV|98%|\n|Random Forest|99%|\n\n"
        },
        {
            "cell_type": "markdown",
            "metadata": {},
            "source": "#### Training the Random Forest model\nI know I am overkilling this, but I decided to train a random forest model just to check. As you can see it returned an even better accuracy rate."
        },
        {
            "cell_type": "code",
            "execution_count": 358,
            "metadata": {},
            "outputs": [],
            "source": "from sklearn.ensemble import RandomForestClassifier\nrfc = RandomForestClassifier(n_estimators=600)"
        },
        {
            "cell_type": "code",
            "execution_count": 359,
            "metadata": {},
            "outputs": [
                {
                    "data": {
                        "text/plain": "RandomForestClassifier(bootstrap=True, class_weight=None, criterion='gini',\n            max_depth=None, max_features='auto', max_leaf_nodes=None,\n            min_impurity_decrease=0.0, min_impurity_split=None,\n            min_samples_leaf=1, min_samples_split=2,\n            min_weight_fraction_leaf=0.0, n_estimators=600, n_jobs=None,\n            oob_score=False, random_state=None, verbose=0,\n            warm_start=False)"
                    },
                    "execution_count": 359,
                    "metadata": {},
                    "output_type": "execute_result"
                }
            ],
            "source": "rfc.fit(X_train,y_train)"
        },
        {
            "cell_type": "code",
            "execution_count": 360,
            "metadata": {},
            "outputs": [],
            "source": "rfc_predictions = rfc.predict(X_test)"
        },
        {
            "cell_type": "code",
            "execution_count": 361,
            "metadata": {},
            "outputs": [
                {
                    "name": "stdout",
                    "output_type": "stream",
                    "text": "              precision    recall  f1-score   support\n\n           2       0.99      1.00      0.99        95\n           4       1.00      0.98      0.99        42\n\n   micro avg       0.99      0.99      0.99       137\n   macro avg       0.99      0.99      0.99       137\nweighted avg       0.99      0.99      0.99       137\n\n"
                }
            ],
            "source": "print(classification_report(y_test,rfc_predictions))"
        }
    ],
    "metadata": {
        "kernelspec": {
            "display_name": "Python 3.6",
            "language": "python",
            "name": "python3"
        },
        "language_info": {
            "codemirror_mode": {
                "name": "ipython",
                "version": 3
            },
            "file_extension": ".py",
            "mimetype": "text/x-python",
            "name": "python",
            "nbconvert_exporter": "python",
            "pygments_lexer": "ipython3",
            "version": "3.6.8"
        }
    },
    "nbformat": 4,
    "nbformat_minor": 4
}